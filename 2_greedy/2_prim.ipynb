{
 "cells": [
  {
   "cell_type": "code",
   "execution_count": null,
   "id": "9dc71897-5690-4571-9ab2-86610ddb990d",
   "metadata": {},
   "outputs": [],
   "source": []
  }
 ],
 "metadata": {
  "kernelspec": {
   "display_name": "",
   "name": ""
  },
  "language_info": {
   "name": ""
  }
 },
 "nbformat": 4,
 "nbformat_minor": 5
}
