{
 "cells": [
  {
   "cell_type": "markdown",
   "id": "72744276-9fcc-4eda-a9b7-33e8b30d1273",
   "metadata": {},
   "source": [
    "# Mininum spanning tree\n",
    "\n",
    "- Given a graph, a subset of edges which has mininum sum of edge costs.\n",
    "- Even if a given graph is not a tree, result will be tree."
   ]
  }
 ],
 "metadata": {
  "kernelspec": {
   "display_name": "Python 3 (ipykernel)",
   "language": "python",
   "name": "python3"
  },
  "language_info": {
   "codemirror_mode": {
    "name": "ipython",
    "version": 3
   },
   "file_extension": ".py",
   "mimetype": "text/x-python",
   "name": "python",
   "nbconvert_exporter": "python",
   "pygments_lexer": "ipython3",
   "version": "3.12.3"
  }
 },
 "nbformat": 4,
 "nbformat_minor": 5
}
