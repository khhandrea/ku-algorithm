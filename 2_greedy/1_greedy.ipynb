{
 "cells": [
  {
   "cell_type": "markdown",
   "id": "9b6e3c78-4b3f-42ab-8b00-12cde74c3c46",
   "metadata": {},
   "source": [
    "# Greedy\n",
    "- Choose answer with relatively easy method.\n",
    "- Doesn't change the answer once it's determined.\n",
    "- E.g. selection sort: find the smallest element and put it to the first index, the element's position won't be changed."
   ]
  }
 ],
 "metadata": {
  "kernelspec": {
   "display_name": "Python 3 (ipykernel)",
   "language": "python",
   "name": "python3"
  },
  "language_info": {
   "codemirror_mode": {
    "name": "ipython",
    "version": 3
   },
   "file_extension": ".py",
   "mimetype": "text/x-python",
   "name": "python",
   "nbconvert_exporter": "python",
   "pygments_lexer": "ipython3",
   "version": "3.12.3"
  }
 },
 "nbformat": 4,
 "nbformat_minor": 5
}
