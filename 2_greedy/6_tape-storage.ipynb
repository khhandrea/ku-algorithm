{
 "cells": [
  {
   "cell_type": "code",
   "execution_count": null,
   "id": "36409df0-cfa3-4eab-af4d-2ba16c49ee7f",
   "metadata": {},
   "outputs": [],
   "source": []
  }
 ],
 "metadata": {
  "kernelspec": {
   "display_name": "",
   "name": ""
  },
  "language_info": {
   "name": ""
  }
 },
 "nbformat": 4,
 "nbformat_minor": 5
}
