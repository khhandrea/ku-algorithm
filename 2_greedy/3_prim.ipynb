{
 "cells": [
  {
   "cell_type": "markdown",
   "id": "d74eb9d5-7f15-4594-b754-5eda92d93658",
   "metadata": {},
   "source": [
    "# Prim, Dijkstra algorithm"
   ]
  },
  {
   "cell_type": "code",
   "execution_count": null,
   "id": "f325b525-d45e-4396-882d-b0d7fe284e15",
   "metadata": {},
   "outputs": [],
   "source": []
  },
  {
   "cell_type": "markdown",
   "id": "b1c722a3-c1b9-40b9-b03f-23dec34a778b",
   "metadata": {},
   "source": [
    "## Prim correctness\n",
    "- We show that the algorithm's edge set $T$ is always a subset of $T_{mst}$ (one of answers)\n",
    "- Statement: in every step, T is a subset of $T_{mst}$\n",
    "- Induction\n",
    "  - Base: $T$ is empty set\n",
    "  - Step\n",
    "    - In $i - 1$ step, assume that $T$ is a subset of $T_{mst}$.\n",
    "    - In $i$-th step, add edge $e_i$ to $T$. Let $T' = T \\cup e_i$ \n",
    "      - Case 1: $T' \\subseteq T_{mst}$ -> OK\n",
    "      - Case 2: $T' \\nsubseteq T_{mst}$ -> find $e$ in cycle $T_{mst} \\cup e$, which is adjacent to $T$ but not $e_i$\n",
    "        - If weight of $e$ < weight of $e_i$ -> contradiction of algorithm\n",
    "        - If weight of $e$ > weight of $e_i$ -> $T_{mst} \\setminus e \\cup e_i$ has less total weight\n",
    "        - If weight of $e$ = weight of $e_i$ -> total weight is same"
   ]
  },
  {
   "cell_type": "markdown",
   "id": "037842ba-c98f-41a1-a843-e819290b4841",
   "metadata": {},
   "source": [
    "## Dijkstra correctness\n",
    "- We show that the algorithm's edge set $T$ is always a subset of $T_{mst}$ (one of answers)\n",
    "- Invariant: in every step, T is a subset of $T_{mst}$\n",
    "- Induction:\n",
    "  - Base: $T$ is empty set\n",
    "  - Step\n",
    "    - In $i - 1$ step, assume that $T$ is a subset of $T_{mst}$.\n",
    "    - In $i$-th step, add edge $e_i$ to $T$. Let $T' = T \\cup e_i$ \n",
    "      - Case 1: $T' \\subseteq T_{mst}$ -> OK\n",
    "      - Case 2: $T' \\nsubseteq T_{mst}$ -> find $e$ in cycle $T_{mst} \\cup e$, which is in $T$\n",
    "        - If weight of $e$ < weight of $e_i$ -> contradiction of algorithm\n",
    "        - If weight of $e$ > weight of $e_i$ -> $T_{mst} \\setminus e \\cup e_i$ has less total weight\n",
    "        - If weight of $e$ = weight of $e_i$ -> total weight is same"
   ]
  }
 ],
 "metadata": {
  "kernelspec": {
   "display_name": "Python 3 (ipykernel)",
   "language": "python",
   "name": "python3"
  },
  "language_info": {
   "codemirror_mode": {
    "name": "ipython",
    "version": 3
   },
   "file_extension": ".py",
   "mimetype": "text/x-python",
   "name": "python",
   "nbconvert_exporter": "python",
   "pygments_lexer": "ipython3",
   "version": "3.12.3"
  }
 },
 "nbformat": 4,
 "nbformat_minor": 5
}
