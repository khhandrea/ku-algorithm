{
 "cells": [
  {
   "cell_type": "code",
   "execution_count": null,
   "id": "eaa5453c-4485-4f17-861f-e026aa4f4d40",
   "metadata": {},
   "outputs": [],
   "source": []
  }
 ],
 "metadata": {
  "kernelspec": {
   "display_name": "",
   "name": ""
  },
  "language_info": {
   "name": ""
  }
 },
 "nbformat": 4,
 "nbformat_minor": 5
}
