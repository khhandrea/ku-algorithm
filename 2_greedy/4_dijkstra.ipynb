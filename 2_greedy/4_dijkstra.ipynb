{
 "cells": [
  {
   "cell_type": "markdown",
   "id": "bed85c06-3ac0-47ac-ae09-cdd810a7008b",
   "metadata": {},
   "source": [
    "- Dijkstra: graph weight should be positive\n",
    "- Bellman-Ford: graph weight can also be negative"
   ]
  }
 ],
 "metadata": {
  "kernelspec": {
   "display_name": "Python 3 (ipykernel)",
   "language": "python",
   "name": "python3"
  },
  "language_info": {
   "codemirror_mode": {
    "name": "ipython",
    "version": 3
   },
   "file_extension": ".py",
   "mimetype": "text/x-python",
   "name": "python",
   "nbconvert_exporter": "python",
   "pygments_lexer": "ipython3",
   "version": "3.12.3"
  }
 },
 "nbformat": 4,
 "nbformat_minor": 5
}
