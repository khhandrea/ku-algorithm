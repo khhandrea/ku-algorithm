{
 "cells": [
  {
   "cell_type": "markdown",
   "id": "452e2809-a69f-48ea-86a7-649c17a28946",
   "metadata": {},
   "source": [
    "# Greedy"
   ]
  },
  {
   "cell_type": "markdown",
   "id": "151aa155-af60-4c6d-ab4e-d9e7ad676a80",
   "metadata": {},
   "source": [
    "- MST\n",
    "- Prim algorithm\n",
    "    - Proof\n",
    "- Kruskal algorithm\n",
    "    - Proof\n",
    "    - Kruskal can find every available answers\n",
    "    - If all weights of edges are different, there are one MST\n",
    "    - If all wieghts of edges are different, Kruskal finds only one answer"
   ]
  }
 ],
 "metadata": {
  "kernelspec": {
   "display_name": "Python 3 (ipykernel)",
   "language": "python",
   "name": "python3"
  },
  "language_info": {
   "codemirror_mode": {
    "name": "ipython",
    "version": 3
   },
   "file_extension": ".py",
   "mimetype": "text/x-python",
   "name": "python",
   "nbconvert_exporter": "python",
   "pygments_lexer": "ipython3",
   "version": "3.12.3"
  }
 },
 "nbformat": 4,
 "nbformat_minor": 5
}
