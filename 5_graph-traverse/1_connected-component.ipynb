{
 "cells": [
  {
   "cell_type": "code",
   "execution_count": null,
   "id": "60d95c51-a121-4dc3-83fa-b11bf06dfd5f",
   "metadata": {},
   "outputs": [],
   "source": []
  }
 ],
 "metadata": {
  "kernelspec": {
   "display_name": "",
   "name": ""
  },
  "language_info": {
   "name": ""
  }
 },
 "nbformat": 4,
 "nbformat_minor": 5
}
