{
 "cells": [
  {
   "cell_type": "markdown",
   "id": "94768299-c57a-40bb-8b69-2a2b2cd45995",
   "metadata": {},
   "source": [
    "# Cut edge\n",
    "\n",
    "## Solution\n",
    "\n",
    "- Simple solution: change every edges to vertex, and find cut vertex"
   ]
  }
 ],
 "metadata": {
  "kernelspec": {
   "display_name": "ku-algorithm",
   "language": "python",
   "name": "ku-algorithm"
  },
  "language_info": {
   "codemirror_mode": {
    "name": "ipython",
    "version": 3
   },
   "file_extension": ".py",
   "mimetype": "text/x-python",
   "name": "python",
   "nbconvert_exporter": "python",
   "pygments_lexer": "ipython3",
   "version": "3.12.8"
  }
 },
 "nbformat": 4,
 "nbformat_minor": 5
}
