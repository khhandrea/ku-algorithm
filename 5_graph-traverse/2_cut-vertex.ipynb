{
 "cells": [
  {
   "cell_type": "markdown",
   "id": "94dc9635-4153-40fb-9056-5fadba57dfdb",
   "metadata": {},
   "source": [
    "# Cut vertex\n",
    "\n",
    "- At first, we make a DFS tree\n",
    "- If a root of the DFS tree has more than 1 child, it is cut vertex\n",
    "- For each non-root node $t$, compute $l(t)$, which is minimum of:\n",
    "    - $Pre(t)$\n",
    "    - min of $Pre(s)$ where (t, s) is a back edge of the DFS tree\n",
    "    - min of $l(u)$ for all children of t\n",
    "<br/><br/>\n",
    "- It means that if children of the node $t$ can go to other nodes above $t$, then the node $t$ is not a cut vertex"
   ]
  }
 ],
 "metadata": {
  "kernelspec": {
   "display_name": "Python 3 (ipykernel)",
   "language": "python",
   "name": "python3"
  },
  "language_info": {
   "codemirror_mode": {
    "name": "ipython",
    "version": 3
   },
   "file_extension": ".py",
   "mimetype": "text/x-python",
   "name": "python",
   "nbconvert_exporter": "python",
   "pygments_lexer": "ipython3",
   "version": "3.12.8"
  }
 },
 "nbformat": 4,
 "nbformat_minor": 5
}
