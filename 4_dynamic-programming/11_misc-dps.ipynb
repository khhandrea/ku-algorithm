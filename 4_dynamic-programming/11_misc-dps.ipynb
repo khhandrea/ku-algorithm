{
 "cells": [
  {
   "cell_type": "markdown",
   "id": "2b557cda-cf59-4ca6-b8aa-ff9d092fbeb5",
   "metadata": {},
   "source": [
    "# Misc DPs\n",
    "\n",
    "## Job selecting\n",
    "\n",
    "![picture](11_misc-dps_1.png)\n",
    "\n",
    "- Given fixed time schedule and value\n",
    "- We should sort jobs with ending time\n",
    "- OPT(j) = maximum value until j-th job\n",
    "- Option: select j-th job or not\n",
    "\n",
    "$$\n",
    "OPT(j) = \\max(OPT(j - 1), OPT(prev(j)) + v(j)\n",
    "$$\n",
    "\n",
    "## Select k elements in a set\n",
    "\n",
    "- in a set with N elements, calculate the number of case to choose k non-overlapping elements\n",
    "- We have a formula ${n \\choose k} = \\frac{n!}{k!(n-k)!}$, but $!$ has too big time complexity\n",
    "\n",
    "$$\n",
    "${n \\choose k} = {n-1 \\choose k-1} + {n-1 \\choose k}\n",
    "$$\n",
    "\n",
    "## Nim game\n",
    "\n",
    "- Given k stones, two players can take turns taking 1 or 2 stones. The player who has no more stones to take loss.\n",
    "- D(i): whether the player can win if i stones left\n",
    "\n",
    "![picture](11_misc-dps_2.png)"
   ]
  }
 ],
 "metadata": {
  "kernelspec": {
   "display_name": "Python 3 (ipykernel)",
   "language": "python",
   "name": "python3"
  },
  "language_info": {
   "codemirror_mode": {
    "name": "ipython",
    "version": 3
   },
   "file_extension": ".py",
   "mimetype": "text/x-python",
   "name": "python",
   "nbconvert_exporter": "python",
   "pygments_lexer": "ipython3",
   "version": "3.12.8"
  }
 },
 "nbformat": 4,
 "nbformat_minor": 5
}
