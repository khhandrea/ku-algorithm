{
 "cells": [
  {
   "cell_type": "markdown",
   "id": "a657d557-3e6e-4f33-bd11-96a522370ad8",
   "metadata": {},
   "source": [
    "# Maximum subarray\n",
    "\n",
    "## Problem\n",
    "\n",
    "- Find the consecutive subarray with maximum sum\n",
    "- The problem can be considered that selecting zero element is available or not\n",
    "\n",
    "## Soltuion 1 ($O(N^3)$)\n",
    "\n",
    "- Compute every case of subarray\n",
    "\n",
    "## Solution 2 ($O(N^2)$)\n",
    "\n",
    "- Compute every sum of subarray, (Sum from i to j) = (Sum from i to j - 1) + A\\[j\\]\n",
    "\n",
    "## Solution 3 ($O(N)$)\n",
    "\n",
    "- Compute the maximum subarray ending at element i\n",
    "- $S[i] = \\max(S[i - 1] + A[i], A[i])$\n",
    "\n",
    "## Solution 4 ($O(N)$)\n",
    "\n",
    "- Compute two values\n",
    "- S\\[i\\]\\[0\\]: max subarray that contains i-th element\n",
    "- S\\[i\\]\\[1\\]: max subarray that may not contain i-th element\n",
    "<br/><br/>\n",
    "- S\\[i\\]\\[0\\] = $\\max(S[i - 1][0], 0) + A[i]$\n",
    "- S\\[i\\]\\[1\\] = $\\max(S[i - 1][1], S[i][0])$\n",
    "\n",
    "## Solution 5 ($O(N)$)\n",
    "\n",
    "- Use prefix sum $P[i] = A[1] + A[2] + ... + A[i]$\n",
    "- Calculate the sum of subarray with $(\\text{Sum from i to j}) = P[j] = P[i - 1]$\n",
    "- Calculating i-th element, we should consider P\\[i\\] - P\\[i - 1\\], P\\[i\\] - P\\[i - 2\\], ..., P\\[i\\] - P\\[0\\], we now compare only P\\[0\\], P\\[1\\], ..., P\\[i - 1\\].\n",
    "- Q\\[i\\]: minimum prefix sum until i-th element = $\\min(Q_i, P_i)$"
   ]
  }
 ],
 "metadata": {
  "kernelspec": {
   "display_name": "Python 3 (ipykernel)",
   "language": "python",
   "name": "python3"
  },
  "language_info": {
   "codemirror_mode": {
    "name": "ipython",
    "version": 3
   },
   "file_extension": ".py",
   "mimetype": "text/x-python",
   "name": "python",
   "nbconvert_exporter": "python",
   "pygments_lexer": "ipython3",
   "version": "3.12.8"
  }
 },
 "nbformat": 4,
 "nbformat_minor": 5
}
