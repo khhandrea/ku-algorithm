{
 "cells": [
  {
   "cell_type": "markdown",
   "id": "8898178d-df77-4624-9a8e-d81dce6e6568",
   "metadata": {},
   "source": [
    "# Fibonacci number\n",
    "\n",
    "- Recursion: exponential execution time\n",
    "- Memoization: don't know the order of calling memory\n",
    "- Dynamic programming: know the order of calling memoization\n",
    "\n",
    "## Recursion"
   ]
  },
  {
   "cell_type": "code",
   "execution_count": 16,
   "id": "bdd9cdbf-1152-4c83-b008-43607c20bd45",
   "metadata": {},
   "outputs": [
    {
     "name": "stdout",
     "output_type": "stream",
     "text": [
      "1\n",
      "1\n",
      "2\n",
      "3\n",
      "5\n",
      "8\n",
      "13\n",
      "21\n",
      "34\n",
      "55\n"
     ]
    }
   ],
   "source": [
    "def fib(n: int):\n",
    "    if n == 0 or n == 1:\n",
    "        return 1\n",
    "\n",
    "    return fib(n - 1) + fib(n - 2)\n",
    "\n",
    "for i in range(10):\n",
    "    print(fib(i))"
   ]
  },
  {
   "cell_type": "markdown",
   "id": "a5119d69-0173-4e50-b378-af9532be0614",
   "metadata": {},
   "source": [
    "## Memoization"
   ]
  },
  {
   "cell_type": "code",
   "execution_count": 17,
   "id": "81dadee9-d68c-4a78-ac4a-2795b4707f80",
   "metadata": {},
   "outputs": [
    {
     "name": "stdout",
     "output_type": "stream",
     "text": [
      "1\n",
      "1\n",
      "2\n",
      "3\n",
      "5\n",
      "8\n",
      "13\n",
      "21\n",
      "34\n",
      "55\n"
     ]
    }
   ],
   "source": [
    "fibs = [False] * 10\n",
    "def fib(n: int):\n",
    "    if n == 0 or n == 1:\n",
    "        return 1\n",
    "        \n",
    "    if fibs[n]:\n",
    "        return fibs[n]\n",
    "\n",
    "    else:\n",
    "        fibs[n] = fib(n - 1) + fib(n - 2)\n",
    "        return fibs[n]\n",
    "\n",
    "for i in range(10):\n",
    "    print(fib(i))"
   ]
  },
  {
   "cell_type": "markdown",
   "id": "867df327-7e04-42ba-8420-27bee350fef0",
   "metadata": {},
   "source": [
    "## Dynamic programming"
   ]
  },
  {
   "cell_type": "code",
   "execution_count": 14,
   "id": "921a276a-648c-45a9-8021-b41a84ad3c3b",
   "metadata": {},
   "outputs": [
    {
     "name": "stdout",
     "output_type": "stream",
     "text": [
      "1\n",
      "1\n",
      "2\n",
      "3\n",
      "5\n",
      "8\n",
      "13\n",
      "21\n",
      "34\n",
      "55\n"
     ]
    }
   ],
   "source": [
    "def fib(n: int):\n",
    "    fibs = [1, 1]\n",
    "    \n",
    "    for i in range(2, n + 1):\n",
    "        fibs.append(fibs[i - 1] + fibs[i - 2])\n",
    "    return fibs[-1]\n",
    "\n",
    "for i in range(10):\n",
    "    print(fib(i))"
   ]
  }
 ],
 "metadata": {
  "kernelspec": {
   "display_name": "Python 3 (ipykernel)",
   "language": "python",
   "name": "python3"
  },
  "language_info": {
   "codemirror_mode": {
    "name": "ipython",
    "version": 3
   },
   "file_extension": ".py",
   "mimetype": "text/x-python",
   "name": "python",
   "nbconvert_exporter": "python",
   "pygments_lexer": "ipython3",
   "version": "3.12.3"
  }
 },
 "nbformat": 4,
 "nbformat_minor": 5
}
