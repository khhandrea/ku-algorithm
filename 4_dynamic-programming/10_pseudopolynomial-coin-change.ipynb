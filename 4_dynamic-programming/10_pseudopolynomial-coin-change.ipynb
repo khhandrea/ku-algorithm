{
 "cells": [
  {
   "cell_type": "markdown",
   "id": "5ced5f32-e30e-48d0-a519-d0d7e2f9bd95",
   "metadata": {},
   "source": [
    "# Pseudopolynomial coin change\n",
    "\n",
    "- Pseudopolynomial: time complexity depends on the input value, not the number of input value\n",
    "\n",
    "## Problem\n",
    "\n",
    "- Given coins, find the smallest number of cases to give N won change\n",
    "- E.g. available coins are 1, 4, 6, and change is 8 won\n",
    "\n",
    "## Solution\n",
    "\n",
    "- Recursive solution\n",
    "- 1 won + solution for 7 won\n",
    "- 4 won + solution for 4 won\n",
    "- 6 won + solution for 2 won\n",
    "- We should calculate solution for every values from bottom-up\n",
    "\n",
    "$$\n",
    "\\text{Case}[n] = \\text{Case}[n - 1] + \\text{Case}[n - 4] + \\text{Case}[n - 6]\n",
    "$$\n",
    "\n",
    "- To calculate the minimum case, we should use more DP\n",
    "- C\\[i\\]\\[j\\]: the minimum case when change is j won and i-th coin is the largest used coin\n",
    "\n",
    "$$\n",
    "C[i][j] = \\min( , C[i][j - D_i] + 1)\n",
    "$$"
   ]
  }
 ],
 "metadata": {
  "kernelspec": {
   "display_name": "Python 3 (ipykernel)",
   "language": "python",
   "name": "python3"
  },
  "language_info": {
   "codemirror_mode": {
    "name": "ipython",
    "version": 3
   },
   "file_extension": ".py",
   "mimetype": "text/x-python",
   "name": "python",
   "nbconvert_exporter": "python",
   "pygments_lexer": "ipython3",
   "version": "3.12.8"
  }
 },
 "nbformat": 4,
 "nbformat_minor": 5
}
