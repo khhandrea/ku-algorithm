{
 "cells": [
  {
   "cell_type": "markdown",
   "id": "008b782b-5603-4fcc-b2e4-beddce5c9019",
   "metadata": {},
   "source": [
    "# Working days\n",
    "\n",
    "## Problem\n",
    "\n",
    "- Given pay for each of N days\n",
    "- Select days to work to maximize total pay\n",
    "- You cannot work on consecutive ways\n",
    "\n",
    "## Solution\n",
    "\n",
    "- We write 'the total pay until that day, on which is a working day and is not a working day'\n",
    "- pay\\[i\\]: pay for i-th day\n",
    "- D\\[i\\]\\[0\\]: total pay for i-th day, on which is not a working day\n",
    "- D\\[i\\]\\[1\\]: total pay for i-th day, on which is a working day\n",
    "<br/><br/>\n",
    "- D\\[i\\]\\[0\\] = max(D\\[i - 1\\]\\[0\\], D\\[i - 1\\]\\[1\\])\n",
    "- D\\[i\\]\\[1\\] = D\\[i - 1\\]\\[0\\] + pay\\[i\\]\n",
    "- Result: max(D\\[n\\]\\[0\\], D\\[n\\]\\[0\\])"
   ]
  },
  {
   "cell_type": "code",
   "execution_count": 1,
   "id": "00cecc3f-b85d-4b27-9bd9-d11be93bccb4",
   "metadata": {},
   "outputs": [
    {
     "name": "stdout",
     "output_type": "stream",
     "text": [
      "D[1][0]: 5, D[1][1]: 3\n",
      "D[2][0]: 5, D[2][1]: 12\n",
      "D[3][0]: 12, D[3][1]: 7\n",
      "D[4][0]: 12, D[4][1]: 18\n",
      "D[5][0]: 18, D[5][1]: 15\n",
      "D[6][0]: 18, D[6][1]: 26\n",
      "D[7][0]: 26, D[7][1]: 27\n",
      "max_pay: 27\n"
     ]
    }
   ],
   "source": [
    "def get_max_pay(pays: list[int]):\n",
    "    D = [[0, 0] for _ in pays]\n",
    "    D[0][1] = pays[0]\n",
    "    for i in range(1, len(pays)):\n",
    "        D[i][0] = max(D[i - 1][0], D[i - 1][1])\n",
    "        D[i][1] = D[i - 1][0] + pays[i]\n",
    "        print(f\"D[{i}][0]: {D[i][0]}, D[{i}][1]: {D[i][1]}\")\n",
    "    return max(D[-1][0], D[-1][1])\n",
    "\n",
    "pays = [5, 3, 7, 2, 6, 8, 4, 9]\n",
    "max_pay = get_max_pay(pays)\n",
    "print(f\"max_pay: {max_pay}\")"
   ]
  }
 ],
 "metadata": {
  "kernelspec": {
   "display_name": "Python 3 (ipykernel)",
   "language": "python",
   "name": "python3"
  },
  "language_info": {
   "codemirror_mode": {
    "name": "ipython",
    "version": 3
   },
   "file_extension": ".py",
   "mimetype": "text/x-python",
   "name": "python",
   "nbconvert_exporter": "python",
   "pygments_lexer": "ipython3",
   "version": "3.12.8"
  }
 },
 "nbformat": 4,
 "nbformat_minor": 5
}
