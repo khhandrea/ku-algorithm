{
 "cells": [
  {
   "cell_type": "markdown",
   "id": "ad26f946-2e24-43cb-a31e-e7cacfa208b6",
   "metadata": {},
   "source": [
    "# Matrix multiplication\n",
    "\n",
    "- Problem: multiplication of a sequence of N matrices\n",
    "- Input: $d_0, d_1, ..., d_N$ (matrices' size should be $d_0 \\times d_1, d_1 \\times d_2, ..., d_{N-1} \\times d_N$)\n",
    "- Target: get the most efficient way to multiply matrices\n",
    "\n",
    "- We calculate $C_{ij}$: minimum cost multiplying matrices i to j\n",
    "- Objective: $C_{1 N}$\n",
    "- Feature: $C_{ij} = \\max_k (C_{i k} + C_{1 N} + d_{i-1} d_k d_j)$\n",
    "  - Meaning: multiplying"
   ]
  }
 ],
 "metadata": {
  "kernelspec": {
   "display_name": "Python 3 (ipykernel)",
   "language": "python",
   "name": "python3"
  },
  "language_info": {
   "codemirror_mode": {
    "name": "ipython",
    "version": 3
   },
   "file_extension": ".py",
   "mimetype": "text/x-python",
   "name": "python",
   "nbconvert_exporter": "python",
   "pygments_lexer": "ipython3",
   "version": "3.12.3"
  }
 },
 "nbformat": 4,
 "nbformat_minor": 5
}
