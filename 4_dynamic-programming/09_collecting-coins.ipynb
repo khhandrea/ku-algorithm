{
 "cells": [
  {
   "cell_type": "markdown",
   "id": "22896fea-6dd0-4465-8f3f-64bcc760b615",
   "metadata": {},
   "source": [
    "# Collecting coins\n",
    "\n",
    "![picture](09_collecting-coins.png)\n",
    "\n",
    "## Solution\n",
    "\n",
    "- At every cell, calculate the maximum number of coins to get\n",
    "- $DP[x][y] = \\max(DP[x - 1][y], DP[x][y - 1]) + coin[x][y]$"
   ]
  }
 ],
 "metadata": {
  "kernelspec": {
   "display_name": "Python 3 (ipykernel)",
   "language": "python",
   "name": "python3"
  },
  "language_info": {
   "codemirror_mode": {
    "name": "ipython",
    "version": 3
   },
   "file_extension": ".py",
   "mimetype": "text/x-python",
   "name": "python",
   "nbconvert_exporter": "python",
   "pygments_lexer": "ipython3",
   "version": "3.12.8"
  }
 },
 "nbformat": 4,
 "nbformat_minor": 5
}
