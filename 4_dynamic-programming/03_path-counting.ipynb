{
 "cells": [
  {
   "cell_type": "markdown",
   "id": "9254c4d6-41aa-4929-9713-0b0bb1ca3261",
   "metadata": {},
   "source": [
    "# Path counting\n",
    "\n",
    "![path counting](03_path-counting.png)\n",
    "\n",
    "## Solution\n",
    "\n",
    "- The number of case at the cell is a sum of the numbers of cases at the previous cells"
   ]
  }
 ],
 "metadata": {
  "kernelspec": {
   "display_name": "Python 3 (ipykernel)",
   "language": "python",
   "name": "python3"
  },
  "language_info": {
   "codemirror_mode": {
    "name": "ipython",
    "version": 3
   },
   "file_extension": ".py",
   "mimetype": "text/x-python",
   "name": "python",
   "nbconvert_exporter": "python",
   "pygments_lexer": "ipython3",
   "version": "3.12.8"
  }
 },
 "nbformat": 4,
 "nbformat_minor": 5
}
