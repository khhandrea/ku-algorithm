{
 "cells": [
  {
   "cell_type": "code",
   "execution_count": null,
   "id": "e096cfc7-539d-4a1a-9752-bf2e51407205",
   "metadata": {},
   "outputs": [],
   "source": []
  }
 ],
 "metadata": {
  "kernelspec": {
   "display_name": "",
   "name": ""
  },
  "language_info": {
   "name": ""
  }
 },
 "nbformat": 4,
 "nbformat_minor": 5
}
