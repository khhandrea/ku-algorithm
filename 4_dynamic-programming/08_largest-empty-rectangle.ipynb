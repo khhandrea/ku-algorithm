{
 "cells": [
  {
   "cell_type": "markdown",
   "id": "e0e20b47-50c4-4a40-ad29-bfdceb2ea639",
   "metadata": {},
   "source": [
    "# Largest empty rectangle\n",
    "\n",
    "## Largest empty square\n",
    "\n",
    "- Given binary bitmap, find the size of largest empty square\n",
    "- If m * m square is available at right down corner (x, y), then (m - 1) * (m - 1) is available at right down corner (x - 1, y), (x, y - 1), (x - 1, y - 1)\n",
    "- LES(x, y): size of the largest square where the right down corner is (x, y)\n",
    "- If (x, y) is empty, then $LES(x, y) = \\min(LES(x - 1, y), LES(x, y - 1), LES(x - 1, y - 1)) + 1$\n",
    "\n",
    "## Largest empty rectangle\n",
    "\n",
    "- At every cell, calculate the largest rectangle as finding the largest rectangle in histogram\n",
    "- "
   ]
  }
 ],
 "metadata": {
  "kernelspec": {
   "display_name": "Python 3 (ipykernel)",
   "language": "python",
   "name": "python3"
  },
  "language_info": {
   "codemirror_mode": {
    "name": "ipython",
    "version": 3
   },
   "file_extension": ".py",
   "mimetype": "text/x-python",
   "name": "python",
   "nbconvert_exporter": "python",
   "pygments_lexer": "ipython3",
   "version": "3.12.8"
  }
 },
 "nbformat": 4,
 "nbformat_minor": 5
}
