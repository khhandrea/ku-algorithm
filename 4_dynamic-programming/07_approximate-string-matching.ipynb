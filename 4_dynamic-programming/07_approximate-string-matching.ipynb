{
 "cells": [
  {
   "cell_type": "markdown",
   "id": "0a1e760f-28ef-4fba-9f64-847c6ada8e91",
   "metadata": {},
   "source": [
    "# Approximate string matching\n",
    "\n",
    "## Edit distance\n",
    "\n",
    "- Edit distance: the number of operations(insertion, deletion, replacement) to chagne one string to another\n",
    "- $D[i][j]$: edit distnace between $S_1[0..i]$ and $S_2[0..j]$ for string $S_1$ and $S_2$\n",
    "- $diff[i][j]$: 1 if $S_1[i] == S_2[j]$, else 0\n",
    "\n",
    "$$\n",
    "D[i][j] = \\min\n",
    "\\begin{cases}\n",
    "D[i][j - 1] + 1 \\\\\n",
    "D[i - 1][j] + 1 \\\\\n",
    "D[i - 1][j - 1] + diff[i][j]\n",
    "\\end{cases}\n",
    "$$\n",
    "\n",
    "![approximate string matching](07_approximate-string-matching.png)\n",
    "\n",
    "## Longest common sequence (LCS)\n",
    "\n",
    "- Find the longest common sequence from two strings\n",
    "- "
   ]
  }
 ],
 "metadata": {
  "kernelspec": {
   "display_name": "Python 3 (ipykernel)",
   "language": "python",
   "name": "python3"
  },
  "language_info": {
   "codemirror_mode": {
    "name": "ipython",
    "version": 3
   },
   "file_extension": ".py",
   "mimetype": "text/x-python",
   "name": "python",
   "nbconvert_exporter": "python",
   "pygments_lexer": "ipython3",
   "version": "3.12.8"
  }
 },
 "nbformat": 4,
 "nbformat_minor": 5
}
