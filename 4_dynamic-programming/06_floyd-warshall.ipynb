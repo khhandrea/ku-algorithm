{
 "cells": [
  {
   "cell_type": "markdown",
   "id": "09bc7a41-e212-4820-912b-8c16b198abdf",
   "metadata": {},
   "source": [
    "# Floyd-Warshall Algorithm\n",
    "\n",
    "## Problem\n",
    "\n",
    "- find the shortest path between every nodes and other nodes\n",
    "\n",
    "## Idea\n",
    "\n",
    "- Find the shortest path from i to j only using nodes in {1, 2, ..., k}\n",
    "- Calculate with increasing $k$\n",
    "\n",
    "## Solution\n",
    "\n",
    "- D\\[k\\]\\[i\\]\\[j\\]: shortest path from i to j using nodes in {1, 2, ..., k}\n",
    "- $D[k][i][j] = \\min(D[k - 1][i][j], D[k - 1][i][k] + D[k - 1][k][j])$\n",
    "- $D[k - 1][i][j]$: i to j not using node k\n",
    "- $D[k - 1][i][k] + D[k - 1][k][j]$: i to j using node k\n",
    "\n",
    "## Implementation\n",
    "\n",
    "- Calculating $D[k][i][j]$, we use just $D[k - 1][...][...]$, so we don't have to save every information through k"
   ]
  },
  {
   "cell_type": "code",
   "execution_count": 6,
   "id": "1c5b8c66-2461-4e39-a773-978406b73bdb",
   "metadata": {},
   "outputs": [
    {
     "name": "stdout",
     "output_type": "stream",
     "text": [
      "[[0, 5, 11, 8], [7, 0, 9, 13], [2, 7, 0, 4], [5, 10, 3, 0]]\n"
     ]
    }
   ],
   "source": [
    "def get_floyd_warshall(weights: list[list[float]]):\n",
    "    paths = [[] for _ in range(len(weights))]\n",
    "    for row_idx, row in enumerate(weights):\n",
    "        for weight in row:\n",
    "            paths[row_idx].append(weight)\n",
    "\n",
    "    for k in range(len(weights)):\n",
    "        for i in range(len(weights)):\n",
    "            for j in range(len(weights)):\n",
    "                paths[i][j] = min(paths[i][j], paths[i][k] + paths[k][j])\n",
    "    return paths\n",
    "\n",
    "weights = [\n",
    "    [0, 5, float(\"inf\"), 8],\n",
    "    [7, 0, 9, float(\"inf\")],\n",
    "    [2, float(\"inf\"), 0, 4],\n",
    "    [float(\"inf\"), float(\"inf\"), 3, 0]\n",
    "]\n",
    "shortest_paths = get_floyd_warshall(weights)\n",
    "print(shortest_paths)"
   ]
  }
 ],
 "metadata": {
  "kernelspec": {
   "display_name": "Python 3 (ipykernel)",
   "language": "python",
   "name": "python3"
  },
  "language_info": {
   "codemirror_mode": {
    "name": "ipython",
    "version": 3
   },
   "file_extension": ".py",
   "mimetype": "text/x-python",
   "name": "python",
   "nbconvert_exporter": "python",
   "pygments_lexer": "ipython3",
   "version": "3.12.8"
  }
 },
 "nbformat": 4,
 "nbformat_minor": 5
}
