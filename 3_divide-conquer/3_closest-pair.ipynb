{
 "cells": [
  {
   "cell_type": "code",
   "execution_count": null,
   "id": "2ae6f441-97a6-4257-8494-af7133590a1b",
   "metadata": {},
   "outputs": [],
   "source": []
  }
 ],
 "metadata": {
  "kernelspec": {
   "display_name": "",
   "name": ""
  },
  "language_info": {
   "name": ""
  }
 },
 "nbformat": 4,
 "nbformat_minor": 5
}
