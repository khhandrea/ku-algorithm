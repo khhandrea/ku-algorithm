{
 "cells": [
  {
   "cell_type": "markdown",
   "id": "ef1a82e6-4ed3-4a6d-ae50-79a20e455802",
   "metadata": {},
   "source": [
    "# Recursion"
   ]
  },
  {
   "cell_type": "markdown",
   "id": "352571b0-fdc6-4edd-a1a8-986a801d0608",
   "metadata": {},
   "source": [
    "## Sum"
   ]
  },
  {
   "cell_type": "markdown",
   "id": "d25a73a0-981d-4a93-b38a-f82117c0dd31",
   "metadata": {},
   "source": [
    "### Iteration"
   ]
  },
  {
   "cell_type": "code",
   "execution_count": 1,
   "id": "053e3c24-e087-450f-b7e4-4e073dde8d10",
   "metadata": {},
   "outputs": [
    {
     "name": "stdout",
     "output_type": "stream",
     "text": [
      "0\n",
      "55\n"
     ]
    }
   ],
   "source": [
    "def sum(x: int) -> int:\n",
    "    S = 0\n",
    "    for i in range(1, x+1):\n",
    "        S += i\n",
    "    return S\n",
    "\n",
    "\n",
    "print(sum(0))\n",
    "print(sum(10))"
   ]
  },
  {
   "cell_type": "markdown",
   "id": "dedbf8c6-83a4-4aa2-aed7-d34251da5338",
   "metadata": {},
   "source": [
    "#### Proof\n",
    "\n",
    "- Prove that sum(n) = 1 + 2 + ... + n\n",
    "- if x $\\gt$ 0 $\\to$ return 1 + 2 + 3 + ... + x"
   ]
  },
  {
   "cell_type": "markdown",
   "id": "8eee9957-8df8-43ca-840d-ee25ce2504a7",
   "metadata": {},
   "source": [
    "### Recursion"
   ]
  },
  {
   "cell_type": "code",
   "execution_count": 2,
   "id": "4fc2645a-09b2-44aa-8b49-593ac2a98fe9",
   "metadata": {},
   "outputs": [
    {
     "name": "stdout",
     "output_type": "stream",
     "text": [
      "0\n",
      "55\n"
     ]
    }
   ],
   "source": [
    "def sum(x: int) -> int:\n",
    "    if x <= 0:\n",
    "        return 0\n",
    "    return x + sum(x-1)\n",
    "\n",
    "\n",
    "print(sum(0))\n",
    "print(sum(10))"
   ]
  },
  {
   "cell_type": "markdown",
   "id": "ca654f26-2b1e-44fa-8232-dfd0729c1592",
   "metadata": {},
   "source": [
    "#### Proof\n",
    "\n",
    "- Prove that sum(n) = 1 + 2 + ... + n by induction\n",
    "- Base: for sum(1) $\\to$ sum(1) = 1\n",
    "- Step: for sum(n):\n",
    "    - assume that sum(n - 1) = 1 + 2 + ... + n - 1\n",
    "    - $\\to$ sum(n) = n + sum(n - 1) = 1 + 2 + ... + n"
   ]
  },
  {
   "cell_type": "markdown",
   "id": "d6a4bf41-1bf5-4a89-9ab2-864717e511b6",
   "metadata": {},
   "source": [
    "## Binary search"
   ]
  },
  {
   "cell_type": "markdown",
   "id": "393553f8-32da-4317-80c7-a2167fdfe947",
   "metadata": {},
   "source": [
    "### Iteration"
   ]
  },
  {
   "cell_type": "code",
   "execution_count": 3,
   "id": "5174b9e2-ead4-4b4a-91b6-31473bb701fe",
   "metadata": {},
   "outputs": [
    {
     "name": "stdout",
     "output_type": "stream",
     "text": [
      "2\n",
      "5\n",
      "-1\n"
     ]
    }
   ],
   "source": [
    "def search(a: list[int], x: int) -> int:\n",
    "    l = 0\n",
    "    r = len(a) - 1\n",
    "    while l <= r:\n",
    "        m = int((l + r) / 2)\n",
    "        if a[m] == x:\n",
    "            return m\n",
    "        elif a[m] < x:\n",
    "            l = m + 1\n",
    "        elif a[m] > x:\n",
    "            r = m - 1\n",
    "    return -1\n",
    "\n",
    "\n",
    "a = [1, 3, 5, 6, 7, 8, 14, 17]\n",
    "print(search(a, 5))\n",
    "print(search(a, 8))\n",
    "print(search(a, 13))"
   ]
  },
  {
   "cell_type": "markdown",
   "id": "c6f51b05-4e38-437d-aa36-ac65180f927b",
   "metadata": {},
   "source": [
    "#### Proof\n",
    "\n",
    "- Prove that search(a, x) returns a index in which the item value is x by invariant\n",
    "    - Invariant: if a\\[$i$\\] = x, $l \\le i \\le r$ for any $i$\n",
    "    - The invariant is valid at initial state\n",
    "    - There is no code which can break the invariant\n",
    "    - At each step, $l$ gets bigger or $r$ gets smaller\n",
    "    - If there is no answer, the loop must end and the code returns -1\n",
    "    - If there is an answer, the loop must return -1"
   ]
  },
  {
   "cell_type": "markdown",
   "id": "2e4c1d78-c811-4cf5-a13a-b334df4150bc",
   "metadata": {},
   "source": [
    "### Recursion"
   ]
  },
  {
   "cell_type": "code",
   "execution_count": 4,
   "id": "b5880674-f74f-47a8-9ce0-7da09cf2b922",
   "metadata": {},
   "outputs": [
    {
     "name": "stdout",
     "output_type": "stream",
     "text": [
      "2\n",
      "5\n",
      "-1\n"
     ]
    }
   ],
   "source": [
    "def search(a: list[int], x: int) -> int:\n",
    "    if len(a) == 0:\n",
    "        return -1\n",
    "    m = int(len(a) / 2)\n",
    "    if a[m] == x:\n",
    "        return m\n",
    "    elif a[m] < x:\n",
    "        r = search(a[m+1:], x)\n",
    "        if r == -1:\n",
    "            return -1\n",
    "        else:\n",
    "            return m + 1 + search(a[m+1:], x)\n",
    "    elif a[m] > x:\n",
    "        return search(a[:m], x)\n",
    "\n",
    "\n",
    "a = [1, 3, 5, 6, 7, 8, 14, 17]\n",
    "print(search(a, 5))\n",
    "print(search(a, 8))\n",
    "print(search(a, 13))"
   ]
  },
  {
   "cell_type": "markdown",
   "id": "55301ae5-55b2-4716-beb8-3effc39a73d5",
   "metadata": {},
   "source": [
    "#### proof\n",
    "\n",
    "- Prove that search(a, x) returns a index in which the item value is x by induction\n",
    "    - Base: if len(a) = 0 $\\to$ a\\[i\\] cannot be x, and a return must be -1\n",
    "    - Step:\n",
    "        - Case 1: if a\\[m\\] = x $\\to$ it returns $m$\n",
    "        - Case 2: if a\\[m\\] > x $\\to$\n",
    "        - Case 3:"
   ]
  },
  {
   "cell_type": "markdown",
   "id": "fa9f15fe-8d21-4f5f-bfae-580de4330712",
   "metadata": {},
   "source": [
    "## Selection sort"
   ]
  },
  {
   "cell_type": "code",
   "execution_count": 5,
   "id": "29eb0c70-e62a-4f75-8dcc-3a1c42c3bf94",
   "metadata": {},
   "outputs": [
    {
     "name": "stdout",
     "output_type": "stream",
     "text": [
      "[0, 1, 2, 3, 4, 5, 6, 7, 8, 9]\n"
     ]
    }
   ],
   "source": [
    "def sort(a: list[int]) -> None:\n",
    "    for i in range(len(a)):\n",
    "        m = i\n",
    "        for j in range(i, len(a)):\n",
    "            if a[j] < a[m]:\n",
    "                m = j\n",
    "        a[i], a[m] = a[m], a[i] # Swap\n",
    "\n",
    "\n",
    "a = [6, 2, 8, 3, 5, 4, 9, 0, 1, 7]\n",
    "sort(a)\n",
    "print(a)"
   ]
  }
 ],
 "metadata": {
  "kernelspec": {
   "display_name": "Python 3 (ipykernel)",
   "language": "python",
   "name": "python3"
  },
  "language_info": {
   "codemirror_mode": {
    "name": "ipython",
    "version": 3
   },
   "file_extension": ".py",
   "mimetype": "text/x-python",
   "name": "python",
   "nbconvert_exporter": "python",
   "pygments_lexer": "ipython3",
   "version": "3.12.3"
  }
 },
 "nbformat": 4,
 "nbformat_minor": 5
}
