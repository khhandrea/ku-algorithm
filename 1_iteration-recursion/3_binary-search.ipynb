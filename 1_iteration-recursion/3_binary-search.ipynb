{
 "cells": [
  {
   "cell_type": "markdown",
   "id": "745ae40e-6864-49bf-85db-07d45fe4fe08",
   "metadata": {},
   "source": [
    "# Binary search"
   ]
  },
  {
   "cell_type": "markdown",
   "id": "7152036d-721b-46bf-bbb9-6b2790438003",
   "metadata": {},
   "source": [
    "## Iteration"
   ]
  },
  {
   "cell_type": "code",
   "execution_count": 1,
   "id": "01a75171-fbe4-4566-b1c6-cfacc7e03d7e",
   "metadata": {},
   "outputs": [],
   "source": [
    "def binary_search(arr: list, x: int):\n",
    "    l = 0\n",
    "    r = len(arr) - 1\n",
    "\n",
    "    while l <= r:\n",
    "        m = (l + r) // 2\n",
    "        if arr[m] == x:\n",
    "            return m\n",
    "        elif arr[m] > x:\n",
    "            r = m - 1\n",
    "        else:\n",
    "            l = m + 1\n",
    "    return -1"
   ]
  },
  {
   "cell_type": "markdown",
   "id": "38c34d77-661c-4a4f-a55a-82d72334fbfa",
   "metadata": {},
   "source": [
    "- Invariant: the answer is between l and r."
   ]
  },
  {
   "cell_type": "markdown",
   "id": "8e58dc55-b529-4434-87aa-9902b3610b56",
   "metadata": {},
   "source": [
    "## Recursion"
   ]
  },
  {
   "cell_type": "code",
   "execution_count": 2,
   "id": "394fbd0e-11c8-44a5-b2b6-42709c48d3f3",
   "metadata": {},
   "outputs": [],
   "source": [
    "def binary_search(arr: list, x: int):\n",
    "    if len(arr) == 0:\n",
    "        return -1\n",
    "        \n",
    "    m = len(arr) // 2\n",
    "    if arr[m] == x:\n",
    "        return m\n",
    "    elif arr[m] > x:\n",
    "        return binary_search(arr[:m], x)\n",
    "    else:\n",
    "        result = binary_search(arr[m + 1:], x)\n",
    "        if result == -1:\n",
    "            return -1\n",
    "        return m + result + 1\n",
    "        "
   ]
  },
  {
   "cell_type": "markdown",
   "id": "91f2cf01-4c10-47fe-9cca-d4c258c4c041",
   "metadata": {},
   "source": [
    "- We want 'binary_search(arr, x) returns the index of x. (if x is not in arr, then -1)'\n",
    "- Base: if arr has no element, it returns -1\n",
    "- Step:\n",
    "  - Case 1: if arr\\[m\\] = x, it returns m, which is the index of x.\n",
    "  - Case 2: if arr\\[m\\] > x, then the index of x is on before m. We assume that binary_search(arr\\[:m\\], x) returns the index of x, then binary_search(arr, x) will return properly.\n",
    "  - Case 3: if arr\\[m\\] < x, then the index of x is on after m. We assume that binary_search(arr\\[m + 1:\\], x) returnx the index of x, then binary_search(arr, x) will return properly."
   ]
  }
 ],
 "metadata": {
  "kernelspec": {
   "display_name": "Python 3 (ipykernel)",
   "language": "python",
   "name": "python3"
  },
  "language_info": {
   "codemirror_mode": {
    "name": "ipython",
    "version": 3
   },
   "file_extension": ".py",
   "mimetype": "text/x-python",
   "name": "python",
   "nbconvert_exporter": "python",
   "pygments_lexer": "ipython3",
   "version": "3.12.3"
  }
 },
 "nbformat": 4,
 "nbformat_minor": 5
}
