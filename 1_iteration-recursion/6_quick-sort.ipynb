{
 "cells": [
  {
   "cell_type": "markdown",
   "id": "74e48437-d894-49a2-bca0-b950f446aa24",
   "metadata": {},
   "source": [
    "# Quick sort"
   ]
  },
  {
   "cell_type": "code",
   "execution_count": 5,
   "id": "55b1611a-2ca4-403f-9720-f7f0a3bd2f2c",
   "metadata": {},
   "outputs": [
    {
     "name": "stdout",
     "output_type": "stream",
     "text": [
      "[1, 2, 3, 4, 5, 6, 7, 8, 9]\n"
     ]
    }
   ],
   "source": [
    "def quick_sort(arr: list) -> list:\n",
    "    if len(arr) <= 1:\n",
    "        return arr\n",
    "        \n",
    "    arr1 = []\n",
    "    arr2 = []\n",
    "    pivot = arr[0]\n",
    "\n",
    "    # Rearrange\n",
    "    for item in arr:\n",
    "        if item < pivot:\n",
    "            arr1.append(item)\n",
    "        elif item > pivot:\n",
    "            arr2.append(item)\n",
    "            \n",
    "    arr1 = quick_sort(arr1)\n",
    "    arr2 = quick_sort(arr2)\n",
    "    \n",
    "    return arr1 + [pivot] + arr2\n",
    "\n",
    "arr = [1, 4, 2, 8, 5, 7, 3, 9, 6]\n",
    "arr = quick_sort(arr)\n",
    "print(arr)"
   ]
  },
  {
   "cell_type": "markdown",
   "id": "5afbf7ed-86b7-4f9c-becd-9cb6f41be5f8",
   "metadata": {},
   "source": [
    "- Proof by induction\n",
    "- Base: if len(arr) = 0 or 1 -> nothing to do\n",
    "- Step:\n",
    "  - Assume that quick_sort of arr1 and arr2 is correct,\n",
    "  - Then arr1 + \\[pivot\\] + arr2 will make sorted array (arr\\[0\\] < arr\\[1\\] < ... < arr\\[p\\] < ... arr\\["
   ]
  }
 ],
 "metadata": {
  "kernelspec": {
   "display_name": "Python 3 (ipykernel)",
   "language": "python",
   "name": "python3"
  },
  "language_info": {
   "codemirror_mode": {
    "name": "ipython",
    "version": 3
   },
   "file_extension": ".py",
   "mimetype": "text/x-python",
   "name": "python",
   "nbconvert_exporter": "python",
   "pygments_lexer": "ipython3",
   "version": "3.12.3"
  }
 },
 "nbformat": 4,
 "nbformat_minor": 5
}
