{
 "cells": [
  {
   "cell_type": "code",
   "execution_count": null,
   "id": "55b1611a-2ca4-403f-9720-f7f0a3bd2f2c",
   "metadata": {},
   "outputs": [],
   "source": []
  }
 ],
 "metadata": {
  "kernelspec": {
   "display_name": "",
   "name": ""
  },
  "language_info": {
   "name": ""
  }
 },
 "nbformat": 4,
 "nbformat_minor": 5
}
