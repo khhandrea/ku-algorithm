{
 "cells": [
  {
   "cell_type": "markdown",
   "id": "64b3068e-1bc9-4492-8e81-b51d5b51f704",
   "metadata": {},
   "source": [
    "# Iteration & recursion"
   ]
  },
  {
   "cell_type": "markdown",
   "id": "db397212-a796-42be-bc65-ec0bb27354c3",
   "metadata": {},
   "source": [
    "## Loop invariant\n",
    "\n",
    "- A condition that is guaranteed to be true in loop\n",
    "- It should be true in initialization, each iteration, and after termination\n",
    "- Usually used with mathematical induction in proof"
   ]
  },
  {
   "cell_type": "markdown",
   "id": "d01b88a3-c510-47cf-95fa-5187d3b3f9f5",
   "metadata": {},
   "source": [
    "## Mathematical induction\n",
    "\n",
    "- Base: P(1) is true.\n",
    "- Step: if `P(n - 1) -> P(n)` is true, then P(n) is true for every nataural number.\n",
    "- Note that `p -> q` is meaningful only if p is true (if p is false, `p -> q` is vacuously true), so we can focus the only situation that q is true.\n",
    "\n",
    "## Recursive algorithm\n",
    "\n",
    "- We can see a recursive algorithm with mathematical induction.\n",
    "- We only focus whether P(q) is true after assuming P(n - 1) is true."
   ]
  }
 ],
 "metadata": {
  "kernelspec": {
   "display_name": "Python 3 (ipykernel)",
   "language": "python",
   "name": "python3"
  },
  "language_info": {
   "codemirror_mode": {
    "name": "ipython",
    "version": 3
   },
   "file_extension": ".py",
   "mimetype": "text/x-python",
   "name": "python",
   "nbconvert_exporter": "python",
   "pygments_lexer": "ipython3",
   "version": "3.12.3"
  }
 },
 "nbformat": 4,
 "nbformat_minor": 5
}
