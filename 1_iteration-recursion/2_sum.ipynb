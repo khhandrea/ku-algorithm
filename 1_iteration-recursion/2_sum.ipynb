{
 "cells": [
  {
   "cell_type": "markdown",
   "id": "dbf88774-eeb0-4ba8-b629-88947e3ef1ed",
   "metadata": {},
   "source": [
    "# Sum"
   ]
  },
  {
   "cell_type": "markdown",
   "id": "bf4b3c83-5b8a-4fa0-906a-b979152059c8",
   "metadata": {},
   "source": [
    "## Iteration"
   ]
  },
  {
   "cell_type": "code",
   "execution_count": 1,
   "id": "f51cb428-7767-44aa-abbf-8e8c736ca71b",
   "metadata": {},
   "outputs": [],
   "source": [
    "def sum(x: int):\n",
    "    result = 0\n",
    "    for i in range(1, x + 1):\n",
    "        result += i\n",
    "    return result"
   ]
  },
  {
   "cell_type": "markdown",
   "id": "a6da48d3-d260-46f8-8846-86bf743edde8",
   "metadata": {},
   "source": [
    "- Argue: 'sum(x) returns sum from 1 to x'.\n",
    "- Initialization: result = 0.\n",
    "- In each iteration: result contains sum from 1 to i - 1. result becomes sum from 1 to i.\n",
    "- Termination: loop terminates after x steps. Then result is sum from 1 to x."
   ]
  },
  {
   "cell_type": "markdown",
   "id": "fe8271e5-389d-4ef0-9f51-880a39e606b4",
   "metadata": {},
   "source": [
    "## Recursion"
   ]
  },
  {
   "cell_type": "code",
   "execution_count": 2,
   "id": "471dd52f-bdad-4574-962d-c401fd32d1ae",
   "metadata": {},
   "outputs": [],
   "source": [
    "def sum(x: int):\n",
    "    if x == 0:\n",
    "        return 0\n",
    "    return x + sum(x - 1)"
   ]
  },
  {
   "cell_type": "markdown",
   "id": "15391f80-904d-484e-9fba-5304416670e2",
   "metadata": {},
   "source": [
    "- Interpreting this code, don't follow inside the function recursively.\n",
    "- First, see what we want for this function: 'sum(x) returns sum of 1 to x'\n",
    "- Base: sum(1) returns 1.\n",
    "- Step: assume that sum(x - 1) returns sum of 1 to x - 1, then sum(x) returns x + sum(x - 1), which is sum of 1 to x.\n",
    "- Now we proved that this function returns sum of 1 to x."
   ]
  }
 ],
 "metadata": {
  "kernelspec": {
   "display_name": "Python 3 (ipykernel)",
   "language": "python",
   "name": "python3"
  },
  "language_info": {
   "codemirror_mode": {
    "name": "ipython",
    "version": 3
   },
   "file_extension": ".py",
   "mimetype": "text/x-python",
   "name": "python",
   "nbconvert_exporter": "python",
   "pygments_lexer": "ipython3",
   "version": "3.12.3"
  }
 },
 "nbformat": 4,
 "nbformat_minor": 5
}
