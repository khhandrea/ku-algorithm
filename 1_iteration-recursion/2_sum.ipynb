{
 "cells": [
  {
   "cell_type": "code",
   "execution_count": null,
   "id": "366cef6d-a0dd-4599-91d9-bc0a9ac36240",
   "metadata": {},
   "outputs": [],
   "source": []
  }
 ],
 "metadata": {
  "kernelspec": {
   "display_name": "",
   "name": ""
  },
  "language_info": {
   "name": ""
  }
 },
 "nbformat": 4,
 "nbformat_minor": 5
}
