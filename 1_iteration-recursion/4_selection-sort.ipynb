{
 "cells": [
  {
   "cell_type": "markdown",
   "id": "c40e5f1f-3116-438b-9ace-5ae1302cf471",
   "metadata": {},
   "source": [
    "# Selection sort"
   ]
  },
  {
   "cell_type": "markdown",
   "id": "83ca2a52-9fdd-46d5-b687-817d3f6e512f",
   "metadata": {},
   "source": [
    "## Proof of correctness of sorting\n",
    "- When array `a` becomes array `b`\n",
    "1. `set(a)` = `set(b)`\n",
    "2. `b[0] < b[1] < ... < b[n - 1]`"
   ]
  },
  {
   "cell_type": "markdown",
   "id": "cb693a8a-5796-4d23-b4d0-bd9655482d4d",
   "metadata": {},
   "source": [
    "## Iteration"
   ]
  },
  {
   "cell_type": "code",
   "execution_count": 1,
   "id": "e9735534-b6cf-42a4-8a00-3b1811749245",
   "metadata": {},
   "outputs": [],
   "source": [
    "def selection_sort(arr):\n",
    "    for i in range(len(arr) - 1):\n",
    "        min_idx = i\n",
    "        for j in range(i, len(arr)):\n",
    "            if arr[j] < arr[min_idx]:\n",
    "                min_idx = j\n",
    "        arr[i], arr[min_idx] = arr[min_idx], arr[i]"
   ]
  },
  {
   "cell_type": "markdown",
   "id": "ee2b4394-ca13-42a1-ab84-3f6b92e3ee3d",
   "metadata": {},
   "source": [
    "- Proof of selection sort uses both loop invariant and induction\n",
    "- Invariant: at i-th step,\n",
    "  - `a[0] < a[1] < ... < a[i - 1]`\n",
    "  - `a[i], a[i + 1], ..., a[n - 1] > a[i - 1]`\n",
    "- Induction\n",
    "  - Base: at step 0, invariant is true\n",
    "  - Step: assume that invariant is true at step i - 1, then invariant is also true at step i."
   ]
  },
  {
   "cell_type": "markdown",
   "id": "fcaa4ef5-9a6c-45f3-a5fd-740345461cb2",
   "metadata": {},
   "source": [
    "## Recursion"
   ]
  },
  {
   "cell_type": "code",
   "execution_count": 2,
   "id": "d09ade13-477d-4388-a232-67028a21b550",
   "metadata": {},
   "outputs": [],
   "source": [
    "def selection_sort(arr, start = 0):\n",
    "    if start == len(arr) - 1:\n",
    "        return\n",
    "        \n",
    "    min_idx = start\n",
    "    for i in range(start, len(arr)):\n",
    "        if arr[i] < arr[min_idx]:\n",
    "            min_idx = i\n",
    "    arr[start], arr[min_idx] = arr[min_idx], arr[start]\n",
    "    selection_sort(arr, start + 1)"
   ]
  },
  {
   "cell_type": "markdown",
   "id": "8e24fd92-362d-4cbd-a666-f0c49e44113e",
   "metadata": {},
   "source": [
    "- Proof by mathematical induction\n",
    "- Base: if `start = len(arr) - 1`, nothing to do. True.\n",
    "- Step: Assume that selection_sort(arr, start + 1) is true, then this step make `a[0] < a[1] < ... < a[i]`"
   ]
  }
 ],
 "metadata": {
  "kernelspec": {
   "display_name": "Python 3 (ipykernel)",
   "language": "python",
   "name": "python3"
  },
  "language_info": {
   "codemirror_mode": {
    "name": "ipython",
    "version": 3
   },
   "file_extension": ".py",
   "mimetype": "text/x-python",
   "name": "python",
   "nbconvert_exporter": "python",
   "pygments_lexer": "ipython3",
   "version": "3.12.3"
  }
 },
 "nbformat": 4,
 "nbformat_minor": 5
}
