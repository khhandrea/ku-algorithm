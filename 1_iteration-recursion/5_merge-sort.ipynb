{
 "cells": [
  {
   "cell_type": "markdown",
   "id": "956a32bb-1a2a-45df-9b28-5b9347fcb601",
   "metadata": {},
   "source": [
    "# Merge sort"
   ]
  },
  {
   "cell_type": "code",
   "execution_count": 1,
   "id": "424b032d-e79e-49c3-b395-4ac07fc23e8e",
   "metadata": {},
   "outputs": [],
   "source": [
    "inf = float(\"inf\")\n",
    "\n",
    "def merge(arr1, arr2) -> list:\n",
    "    result = []\n",
    "\n",
    "    arr1 = iter(arr1)\n",
    "    arr2 = iter(arr2)\n",
    "\n",
    "    i = next(arr1)\n",
    "    j = next(arr2)\n",
    "    \n",
    "    while True:\n",
    "        if i == inf and j == inf:\n",
    "            break\n",
    "        if j < i:\n",
    "            result.append(j)\n",
    "            j = next(arr2, inf)\n",
    "        else:\n",
    "            result.append(i)\n",
    "            i = next(arr1, inf)\n",
    "    return result"
   ]
  },
  {
   "cell_type": "code",
   "execution_count": 2,
   "id": "901bf17f-6a3f-49a5-b5d1-7e4abd201a0a",
   "metadata": {},
   "outputs": [
    {
     "name": "stdout",
     "output_type": "stream",
     "text": [
      "[1, 2, 3, 4, 5, 6, 7, 8, 9]\n"
     ]
    }
   ],
   "source": [
    "def merge_sort(arr: list) -> list:\n",
    "    # Base case\n",
    "    if len(arr) <= 1:\n",
    "        return arr\n",
    "\n",
    "    arr1 = merge_sort(arr[:len(arr) // 2])\n",
    "    arr2 = merge_sort(arr[len(arr) // 2:])\n",
    "    return merge(arr1, arr2)\n",
    "\n",
    "arr = [1, 4, 7, 2, 5, 3, 8, 6, 9]\n",
    "arr = merge_sort(arr)\n",
    "print(arr)"
   ]
  },
  {
   "cell_type": "markdown",
   "id": "b5087dc3-0625-4b57-94c9-54a01c6d92b2",
   "metadata": {},
   "source": [
    "- Proof of correctness of merge sort\n",
    "- Merge algorithm is correct.\n",
    "- Induction\n",
    "  - Base: if len(arr) = 1, nothing to do\n",
    "  - Step\n",
    "    - At step n,\n",
    "    - Assume that merge sort with n/2 is correct,\n",
    "    - Then merging two arrays makes sorted array (because merge algorithm is correct)\n",
    "    - When the function is over, the whole array will be sorted"
   ]
  }
 ],
 "metadata": {
  "kernelspec": {
   "display_name": "Python 3 (ipykernel)",
   "language": "python",
   "name": "python3"
  },
  "language_info": {
   "codemirror_mode": {
    "name": "ipython",
    "version": 3
   },
   "file_extension": ".py",
   "mimetype": "text/x-python",
   "name": "python",
   "nbconvert_exporter": "python",
   "pygments_lexer": "ipython3",
   "version": "3.12.3"
  }
 },
 "nbformat": 4,
 "nbformat_minor": 5
}
